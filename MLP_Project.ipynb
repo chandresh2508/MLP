{
 "cells": [
  {
   "cell_type": "markdown",
   "id": "47a0624a-4cd8-4362-a7be-36eed159f4cf",
   "metadata": {},
   "source": [
    "# ============================================\n",
    "# AIDI 1002 Final Project — TextCNN-SE (NLP)\n",
    "# Reproduction + Significant Contributions\n",
    "# - Depthwise Separable TextCNN + SE attention\n",
    "# - Label Smoothing CE\n",
    "# - Adam → SGD + CosineAnnealingLR\n",
    "# - Embedding Dropout + Word Dropout\n",
    "# - Windows-safe DataLoaders, FAST toggle\n",
    "# ============================================\n"
   ]
  },
  {
   "cell_type": "markdown",
   "id": "a98316de-5693-4e33-b1f8-4bcf077b333e",
   "metadata": {},
   "source": [
    "Step 1 - Imports, config, toggles\n",
    "-"
   ]
  },
  {
   "cell_type": "code",
   "execution_count": 1,
   "id": "4f42c052-f4f0-4ec8-a240-0568994d30fe",
   "metadata": {},
   "outputs": [
    {
     "name": "stdout",
     "output_type": "stream",
     "text": [
      "Loading the ag_news dataset...\n",
      "Building vocabulary...\n",
      "Encoding and padding text data...\n",
      "Data preparation complete.\n"
     ]
    }
   ],
   "source": [
    "import torch\n",
    "import torch.nn as nn\n",
    "import torch.optim as optim\n",
    "import torch.nn.functional as F\n",
    "from torch.utils.data import DataLoader, TensorDataset\n",
    "from datasets import load_dataset\n",
    "from sklearn.metrics import accuracy_score, f1_score\n",
    "from collections import Counter\n",
    "import string\n",
    "import re\n",
    "\n",
    "# --- Step 1: Data Loading and Preprocessing ---\n",
    "\n",
    "def preprocess_text(text):\n",
    "    text = text.lower()\n",
    "    text = re.sub(r'[^a-z0-9\\s]', '', text)  # Remove punctuation\n",
    "    tokens = text.split()\n",
    "    return tokens\n",
    "\n",
    "# Load the ag_news dataset\n",
    "print(\"Loading the ag_news dataset...\")\n",
    "ag_news = load_dataset(\"ag_news\")\n",
    "\n",
    "train_texts = [preprocess_text(item) for item in ag_news['train']['text']]\n",
    "train_labels = ag_news['train']['label']\n",
    "\n",
    "test_texts = [preprocess_text(item) for item in ag_news['test']['text']]\n",
    "test_labels = ag_news['test']['label']\n",
    "\n",
    "# Create a vocabulary\n",
    "print(\"Building vocabulary...\")\n",
    "word_counts = Counter()\n",
    "for text in train_texts:\n",
    "    word_counts.update(text)\n",
    "\n",
    "vocab = {word: i + 1 for i, (word, count) in enumerate(word_counts.most_common())}\n",
    "vocab['<unk>'] = 0  # Add an unknown token\n",
    "\n",
    "def text_to_tensor(texts, vocab, max_len=None):\n",
    "    if max_len is None:\n",
    "        max_len = max(len(t) for t in texts)\n",
    "    \n",
    "    encoded_texts = []\n",
    "    for text in texts:\n",
    "        encoded = [vocab.get(word, vocab['<unk>']) for word in text]\n",
    "        if len(encoded) > max_len:\n",
    "            encoded = encoded[:max_len]\n",
    "        else:\n",
    "            encoded = encoded + [0] * (max_len - len(encoded))\n",
    "        encoded_texts.append(encoded)\n",
    "    \n",
    "    return torch.LongTensor(encoded_texts)\n",
    "\n",
    "# Pad and encode texts\n",
    "print(\"Encoding and padding text data...\")\n",
    "max_seq_len = 50\n",
    "train_tensor = text_to_tensor(train_texts, vocab, max_len=max_seq_len)\n",
    "test_tensor = text_to_tensor(test_texts, vocab, max_len=max_seq_len)\n",
    "\n",
    "train_labels_tensor = torch.LongTensor(train_labels)\n",
    "test_labels_tensor = torch.LongTensor(test_labels)\n",
    "\n",
    "# Create DataLoader for training and testing\n",
    "train_dataset = TensorDataset(train_tensor, train_labels_tensor)\n",
    "test_dataset = TensorDataset(test_tensor, test_labels_tensor)\n",
    "\n",
    "train_loader = DataLoader(train_dataset, batch_size=64, shuffle=True)\n",
    "test_loader = DataLoader(test_dataset, batch_size=64, shuffle=False)\n",
    "\n",
    "print(\"Data preparation complete.\")\n"
   ]
  },
  {
   "cell_type": "markdown",
   "id": "9543a184-1e9a-43ec-97a8-42f80db8fc19",
   "metadata": {},
   "source": [
    "# --- Step 2: Define the Lightweight CNN Model ---"
   ]
  },
  {
   "cell_type": "code",
   "execution_count": 2,
   "id": "a7b9aec5-9242-471f-9dfa-1f94abaec7ae",
   "metadata": {},
   "outputs": [],
   "source": [
    "\n",
    "class LightweightCNN(nn.Module):\n",
    "    def __init__(self, vocab_size, embedding_dim, n_filters, filter_sizes, output_dim, dropout, pad_idx):\n",
    "        super().__init__()\n",
    "        \n",
    "        self.embedding = nn.Embedding(vocab_size, embedding_dim, padding_idx=pad_idx)\n",
    "        \n",
    "        self.conv_2_3x3 = nn.Sequential(\n",
    "            nn.Conv1d(in_channels=embedding_dim, out_channels=n_filters, kernel_size=3, padding=1),\n",
    "            nn.ReLU(),\n",
    "            nn.Conv1d(in_channels=n_filters, out_channels=n_filters, kernel_size=3, padding=1)\n",
    "        )\n",
    "        \n",
    "        self.conv_3x3 = nn.Conv1d(in_channels=embedding_dim, out_channels=n_filters, kernel_size=3)\n",
    "        \n",
    "        self.fc = nn.Linear(len(filter_sizes) * n_filters, output_dim)\n",
    "        self.dropout = nn.Dropout(dropout)\n",
    "        \n",
    "    def forward(self, text):\n",
    "        embedded = self.embedding(text)\n",
    "        embedded = embedded.permute(0, 2, 1)\n",
    "\n",
    "        conv_out_2_3x3 = self.conv_2_3x3(embedded)\n",
    "        conv_out_3x3 = self.conv_3x3(embedded)\n",
    "        \n",
    "        pooled_2_3x3 = F.max_pool1d(conv_out_2_3x3, conv_out_2_3x3.shape[2]).squeeze(2)\n",
    "        pooled_3x3 = F.max_pool1d(conv_out_3x3, conv_out_3x3.shape[2]).squeeze(2)\n",
    "        \n",
    "        pooled_features = torch.cat((pooled_2_3x3, pooled_3x3), dim=1)\n",
    "        \n",
    "        logits = self.fc(self.dropout(pooled_features))\n",
    "        \n",
    "        return logits"
   ]
  },
  {
   "cell_type": "markdown",
   "id": "71371454-a8fc-4166-b775-1dbe59911921",
   "metadata": {},
   "source": [
    "# --- Step 3: Training and Evaluation Functions ---"
   ]
  },
  {
   "cell_type": "code",
   "execution_count": 3,
   "id": "4d35c576-3ae6-49c5-93c6-d7fef5fb9e5e",
   "metadata": {},
   "outputs": [],
   "source": [
    "\n",
    "def train_model(model, train_loader, optimizer, criterion):\n",
    "    model.train()\n",
    "    total_loss = 0\n",
    "    for texts, labels in train_loader:\n",
    "        optimizer.zero_grad()\n",
    "        logits = model(texts)\n",
    "        loss = criterion(logits, labels)\n",
    "        loss.backward()\n",
    "        optimizer.step()\n",
    "        total_loss += loss.item()\n",
    "    return total_loss / len(train_loader)\n",
    "\n",
    "def evaluate(model, loader, criterion):\n",
    "    model.eval()\n",
    "    total_loss = 0\n",
    "    predictions = []\n",
    "    true_labels = []\n",
    "\n",
    "    with torch.no_grad():\n",
    "        for texts, labels in loader:\n",
    "            logits = model(texts)\n",
    "            loss = criterion(logits, labels)\n",
    "            total_loss += loss.item()\n",
    "            \n",
    "            predicted_classes = torch.argmax(logits, dim=1)\n",
    "            predictions.extend(predicted_classes.tolist())\n",
    "            true_labels.extend(labels.tolist())\n",
    "\n",
    "    accuracy = accuracy_score(true_labels, predictions)\n",
    "    f1 = f1_score(true_labels, predictions, average='weighted')\n",
    "\n",
    "    return accuracy, f1, total_loss / len(loader)\n"
   ]
  },
  {
   "cell_type": "markdown",
   "id": "2c9aa445-5d9b-4a9c-bd5d-992d7ae8356e",
   "metadata": {},
   "source": [
    "# --- Step 4: Run the Training and Evaluation Workflow ---"
   ]
  },
  {
   "cell_type": "code",
   "execution_count": 4,
   "id": "e03ef50f-bb12-4c3e-9c4a-7544a23f22a5",
   "metadata": {},
   "outputs": [
    {
     "name": "stdout",
     "output_type": "stream",
     "text": [
      "\n",
      "Starting training...\n",
      "Epoch: 01 | Train Loss: 0.584\n",
      "Epoch: 02 | Train Loss: 0.315\n",
      "Epoch: 03 | Train Loss: 0.243\n",
      "Epoch: 04 | Train Loss: 0.197\n",
      "Epoch: 05 | Train Loss: 0.163\n",
      "\n",
      "Evaluating on the test set...\n",
      "\n",
      "Test Loss: 0.306\n",
      "Test Accuracy: 0.909\n",
      "Test F1 Score: 0.909\n"
     ]
    }
   ],
   "source": [
    "\n",
    "# Hyperparameters\n",
    "VOCAB_SIZE = len(vocab)\n",
    "EMBEDDING_DIM = 100\n",
    "N_FILTERS = 100\n",
    "FILTER_SIZES = [3, 5]\n",
    "OUTPUT_DIM = len(set(train_labels))\n",
    "DROPOUT = 0.5\n",
    "PAD_IDX = vocab['<unk>']\n",
    "N_EPOCHS = 5\n",
    "\n",
    "# Initialize model, optimizer, and loss function\n",
    "model = LightweightCNN(VOCAB_SIZE, EMBEDDING_DIM, N_FILTERS, FILTER_SIZES, OUTPUT_DIM, DROPOUT, PAD_IDX)\n",
    "optimizer = optim.Adam(model.parameters())\n",
    "criterion = nn.CrossEntropyLoss()\n",
    "\n",
    "print(\"\\nStarting training...\")\n",
    "for epoch in range(N_EPOCHS):\n",
    "    train_loss = train_model(model, train_loader, optimizer, criterion)\n",
    "    print(f\"Epoch: {epoch+1:02} | Train Loss: {train_loss:.3f}\")\n",
    "\n",
    "print(\"\\nEvaluating on the test set...\")\n",
    "test_accuracy, test_f1, test_loss = evaluate(model, test_loader, criterion)\n",
    "\n",
    "print(f'\\nTest Loss: {test_loss:.3f}')\n",
    "print(f'Test Accuracy: {test_accuracy:.3f}')\n",
    "print(f'Test F1 Score: {test_f1:.3f}')"
   ]
  },
  {
   "cell_type": "code",
   "execution_count": null,
   "id": "f14acc0e-256b-40fb-93f3-f33aba44a61c",
   "metadata": {},
   "outputs": [],
   "source": []
  }
 ],
 "metadata": {
  "kernelspec": {
   "display_name": "Python 3 (ipykernel)",
   "language": "python",
   "name": "python3"
  },
  "language_info": {
   "codemirror_mode": {
    "name": "ipython",
    "version": 3
   },
   "file_extension": ".py",
   "mimetype": "text/x-python",
   "name": "python",
   "nbconvert_exporter": "python",
   "pygments_lexer": "ipython3",
   "version": "3.12.7"
  }
 },
 "nbformat": 4,
 "nbformat_minor": 5
}
